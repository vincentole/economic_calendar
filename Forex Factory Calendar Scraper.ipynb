{
 "cells": [
  {
   "cell_type": "code",
   "execution_count": 1,
   "metadata": {},
   "outputs": [],
   "source": [
    "from bs4 import BeautifulSoup\n",
    "import requests\n",
    "import datetime\n",
    "import logging\n",
    "import csv\n",
    "\n",
    "def setLogger():\n",
    "    logging.basicConfig(level=logging.INFO,\n",
    "                    format='%(asctime)s - %(levelname)s - %(message)s',\n",
    "                    filename='logs_file',\n",
    "                    filemode='w')\n",
    "    console = logging.StreamHandler()\n",
    "    formatter = logging.Formatter('%(asctime)s - %(levelname)s - %(message)s')\n",
    "    console.setFormatter(formatter)\n",
    "    logging.getLogger('').addHandler(console)\n",
    "\n",
    "def getEconomicCalendar(startlink,endlink):\n",
    "\n",
    "    # write to console current status\n",
    "    logging.info(\"Scraping data for link: {}\".format(startlink))\n",
    "\n",
    "    # get the page and make the soup\n",
    "    baseURL = \"https://www.forexfactory.com/\"\n",
    "    r = requests.get(baseURL + startlink)\n",
    "    data = r.text\n",
    "    soup = BeautifulSoup(data, \"lxml\")\n",
    "\n",
    "    # get and parse table data, ignoring details and graph\n",
    "    table = soup.find(\"table\", class_=\"calendar__table\")\n",
    "\n",
    "    # do not use the \".calendar__row--grey\" css selector (reserved for historical data)\n",
    "    trs = table.select(\"tr.calendar__row.calendar_row\")\n",
    "    fields = [\"date\",\"time\",\"currency\",\"impact\",\"event\",\"actual\",\"forecast\",\"previous\"]\n",
    "\n",
    "    # some rows do not have a date (cells merged)\n",
    "    curr_year = startlink[-4:]\n",
    "    curr_date = \"\"\n",
    "    curr_time = \"\"\n",
    "    for tr in trs:\n",
    "\n",
    "        # fields may mess up sometimes, see Tue Sep 25 2:45AM French Consumer Spending\n",
    "        # in that case we append to errors.csv the date time where the error is\n",
    "        try:\n",
    "            for field in fields:\n",
    "                data = tr.select(\"td.calendar__cell.calendar__{}.{}\".format(field,field))[0]\n",
    "                # print(data)\n",
    "                if field==\"date\" and data.text.strip()!=\"\":\n",
    "                    curr_date = data.text.strip()\n",
    "                elif field==\"time\" and data.text.strip()!=\"\":\n",
    "                    # time is sometimes \"All Day\" or \"Day X\" (eg. WEF Annual Meetings)\n",
    "                    if data.text.strip().find(\"Day\")!=-1:\n",
    "                        curr_time = \"12:00am\"\n",
    "                    else:\n",
    "                        curr_time = data.text.strip()\n",
    "                elif field==\"currency\":\n",
    "                    currency = data.text.strip()\n",
    "                elif field==\"impact\":\n",
    "                    # when impact says \"Non-Economic\" on mouseover, the relevant\n",
    "                    # class name is \"Holiday\", thus we do not use the classname\n",
    "                    impact = data.find(\"span\")[\"title\"]\n",
    "                elif field==\"event\":\n",
    "                    event = data.text.strip()\n",
    "                elif field==\"actual\":\n",
    "                    actual = data.text.strip()\n",
    "                elif field==\"forecast\":\n",
    "                    forecast = data.text.strip()\n",
    "                elif field==\"previous\":\n",
    "                    previous = data.text.strip()\n",
    "\n",
    "            dt = datetime.datetime.strptime(\",\".join([curr_year,curr_date,curr_time]),\n",
    "                                            \"%Y,%a%b %d,%I:%M%p\")\n",
    "            with open(\"EconomicCalendar.csv\",\"a+\") as f:\n",
    "                csv.writer(f).writerow([str(dt), currency, impact, event, actual, forecast, previous])\n",
    "        except:\n",
    "            with open(\"errors.csv\",\"a+\") as f:\n",
    "                csv.writer(f).writerow([curr_year,curr_date,curr_time])\n",
    "\n",
    "    # exit recursion when last available link has reached\n",
    "    if startlink==endlink:\n",
    "        logging.info(\"Successfully retrieved data\")\n",
    "        return\n",
    "\n",
    "    # get the link for the next week and follow\n",
    "    follow = soup.select(\"a.calendar__pagination.calendar__pagination--next.next\")\n",
    "    follow = follow[0][\"href\"]\n",
    "    getEconomicCalendar(follow,endlink)\n",
    "\n",
    "#if __name__ == \"__main__\":\n",
    "#    \"\"\"\n",
    "#    Run this using the command \"python `script_name`.py >> `output_name`.csv\"\n",
    "#    \"\"\"\n",
    "#    setLogger()\n",
    "#    getEconomicCalendar(\"calendar.php?month=jan.2018\",\"calendar.php?month=this\")"
   ]
  },
  {
   "cell_type": "code",
   "execution_count": 2,
   "metadata": {
    "scrolled": false
   },
   "outputs": [
    {
     "name": "stderr",
     "output_type": "stream",
     "text": [
      "2019-01-02 11:38:27,839 - INFO - Scraping data for link: calendar.php?month=dec.2018\n",
      "2019-01-02 11:38:30,154 - INFO - Successfully retrieved data\n"
     ]
    },
    {
     "name": "stdout",
     "output_type": "stream",
     "text": [
      "Calendar Complete.\n"
     ]
    }
   ],
   "source": [
    "# Write output to csv file\n",
    "setLogger()\n",
    "getEconomicCalendar(\"calendar.php?month=dec.2018\",\"calendar.php?month=dec.2018\")\n",
    "\n",
    "print('Calendar Complete.')"
   ]
  },
  {
   "cell_type": "code",
   "execution_count": null,
   "metadata": {},
   "outputs": [],
   "source": []
  }
 ],
 "metadata": {
  "kernelspec": {
   "display_name": "Python 3",
   "language": "python",
   "name": "python3"
  },
  "language_info": {
   "codemirror_mode": {
    "name": "ipython",
    "version": 3
   },
   "file_extension": ".py",
   "mimetype": "text/x-python",
   "name": "python",
   "nbconvert_exporter": "python",
   "pygments_lexer": "ipython3",
   "version": "3.6.5"
  }
 },
 "nbformat": 4,
 "nbformat_minor": 2
}
